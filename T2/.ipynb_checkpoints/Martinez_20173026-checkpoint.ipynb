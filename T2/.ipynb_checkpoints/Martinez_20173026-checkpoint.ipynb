{
 "cells": [
  {
   "cell_type": "markdown",
   "metadata": {},
   "source": [
    "# Tarea 2\n",
    "\n",
    "Hora de entrega: Próximo viernes a las 8pm\n",
    "\n",
    "Nombrar al archivo de la siguiente manera: Apellido_código.  \n",
    "Ejemplo:  Solis_20060983\n",
    "\n",
    "Entregar la tarea en esta plantilla, no usar una adicional a esta. \n",
    "\n",
    "\n",
    "* Escriba un docstring para las funciones que aún no lo tienen"
   ]
  },
  {
   "cell_type": "markdown",
   "metadata": {},
   "source": [
    "1. Escriba una función que transforme la temperatura de grados celsius a grados fahrenheit. La fórmula es:    \n",
    "$F = 1.8*C + 32$"
   ]
  },
  {
   "cell_type": "code",
   "execution_count": 1,
   "metadata": {},
   "outputs": [],
   "source": [
    "def celsius_a_fahrenheit(temp_c):\n",
    "    '''\n",
    "    transforma temperatura de celsius a fahrenheit\n",
    "    Input: \n",
    "        temp_c: número float\n",
    "    Ouput: \n",
    "        retorna: número float\n",
    "    '''\n",
    "    \n",
    "    temp_f = 1.8 * temp_c + 32\n",
    "    \n",
    "    return temp_f "
   ]
  },
  {
   "cell_type": "code",
   "execution_count": 5,
   "metadata": {},
   "outputs": [
    {
     "data": {
      "text/plain": [
       "80.6"
      ]
     },
     "execution_count": 5,
     "metadata": {},
     "output_type": "execute_result"
    }
   ],
   "source": [
    "temperatura = celsius_a_fahrenheit(27)\n",
    "temperatura"
   ]
  },
  {
   "cell_type": "markdown",
   "metadata": {},
   "source": [
    "2. Adapte el juego de dados de la clase de control flow para que pueda aceptar cuantas simulaciones se requiera.El input será un integer del número de simulaciones que queremos. El output será un float con la probabilidad de obtener 7 sobre la probabilidad de obtener 11.\n",
    "\n",
    "Abajo el código. "
   ]
  },
  {
   "cell_type": "code",
   "execution_count": 11,
   "metadata": {},
   "outputs": [],
   "source": [
    "import random"
   ]
  },
  {
   "cell_type": "code",
   "execution_count": 12,
   "metadata": {},
   "outputs": [],
   "source": [
    "sims = 100\n",
    "\n",
    "es_7 = 0\n",
    "es_11 = 0\n",
    "\n",
    "for i in range(sims):\n",
    "    suma_dados = random.randint(1,6) + random.randint(1,6)  # un int del 1 al 6\n",
    "    if suma_dados == 7:\n",
    "        es_7 +=1\n",
    "    elif suma_dados == 11:\n",
    "        es_11 += 1\n",
    "        "
   ]
  },
  {
   "cell_type": "code",
   "execution_count": 40,
   "metadata": {},
   "outputs": [],
   "source": [
    "# Creando la función :\n",
    "\n",
    "def dados_probabilidad(numero_simulaciones):\n",
    "    '''\n",
    "    input:\n",
    "        numero_simulaciones = int\n",
    "    output:\n",
    "        prob7_11 : float\n",
    "    '''\n",
    "    es_7 = 0\n",
    "    es_11 = 0\n",
    "    \n",
    "    for i in range(numero_simulaciones):\n",
    "        suma_dados = random.randint(1,6) + random.randint(1,6)\n",
    "        if suma_dados == 7:\n",
    "            es_7 +=1\n",
    "\n",
    "        elif suma_dados == 11:\n",
    "            es_11 += 1\n",
    "     \n",
    "    prob7_11 = es_7 / es_11 \n",
    "    return prob7_11     "
   ]
  },
  {
   "cell_type": "code",
   "execution_count": 53,
   "metadata": {},
   "outputs": [
    {
     "data": {
      "text/plain": [
       "2.0"
      ]
     },
     "execution_count": 53,
     "metadata": {},
     "output_type": "execute_result"
    }
   ],
   "source": [
    "intento1 = dados_probabilidad(15)\n",
    "intento1"
   ]
  },
  {
   "cell_type": "markdown",
   "metadata": {},
   "source": [
    "3. Cree un script .py en la misma carpeta en la que guardó la tarea y copie alguna de las funciones que definió anteriormente en esta tarea. Importe la función (módulo) creada de las 3 formas que vimos en clase (con el script como un alias, con * y especificando el nombre de la función  que quiere importar). \n",
    "\n",
    "No es necesario adjuntar el archivo .py, con ver que se pudo ejecutar el bloque de JN es suficiente. (Es decir, debe aparecer un número al costado izquierdo de la celda ejecutada"
   ]
  },
  {
   "cell_type": "code",
   "execution_count": 55,
   "metadata": {},
   "outputs": [],
   "source": [
    "%load_ext autoreload\n",
    "%autoreload 2"
   ]
  },
  {
   "cell_type": "code",
   "execution_count": 57,
   "metadata": {},
   "outputs": [],
   "source": [
    "# Importando funciones: OPCION 1\n",
    "\n",
    "import T2_funciones as funciones  "
   ]
  },
  {
   "cell_type": "code",
   "execution_count": 60,
   "metadata": {},
   "outputs": [],
   "source": [
    "# Importando funciones: OPCION 2\n",
    "\n",
    "from T2_funciones import *"
   ]
  },
  {
   "cell_type": "code",
   "execution_count": 58,
   "metadata": {},
   "outputs": [],
   "source": [
    "# Importando funciones: OPCION 3\n",
    "\n",
    "from T2_funciones import dados_probabilidad\n"
   ]
  },
  {
   "cell_type": "markdown",
   "metadata": {},
   "source": [
    "4. Escriba una función que dé el resultado de una división de dos números, sin embargo, el resultado debe ser un número mixto. \n",
    "\n",
    "Los números mixtos son una representación que tiene una parte entera y una parte menor a la unidad. Por ejemplo, $50 / 7$ es representado de la siguiente manera:\n",
    "$\n",
    "  7\\frac{1}{7}\n",
    "$  \n",
    "\n",
    "Otro ejemplo: $23 / 4$ sería \n",
    "$\n",
    "  5\\frac{3}{4}\n",
    "$  \n",
    "\n",
    "La función toma 2 argumentos: primero, el número a dividir, y segundo, el divisor. \n",
    "\n",
    "La función retorna una lista con 3 elementos: el número entero, el numerador de la fracción y el denominador de la fracción. \n",
    "\n",
    "Por ejemplo, ``` numero_mixto(23,4)``` da como resultado ```[5, 3, 4] ```. \n",
    "\n",
    "``` numero_mixto(24,4)``` da como resultado ```[6, 0, 4] ```. \n",
    "\n",
    "Pista: floor y módulo"
   ]
  },
  {
   "cell_type": "code",
   "execution_count": 71,
   "metadata": {},
   "outputs": [],
   "source": [
    "def numero_mixto(num, den):\n",
    "    '''\n",
    "    Convierte división en número mixto\n",
    "    Input: \n",
    "        num: número entero\n",
    "        den: número entero\n",
    "    Ouput: \n",
    "        retorna: lista con 3 números\n",
    "    '''\n",
    "    \n",
    "    #Escribe aquí tu función \n",
    "    \n",
    "    a = int(num / den)\n",
    "    b = den\n",
    "    c = num % den\n",
    "    \n",
    "    lst_result = [a,c,b]\n",
    "    \n",
    "    return lst_result"
   ]
  },
  {
   "cell_type": "code",
   "execution_count": 72,
   "metadata": {},
   "outputs": [
    {
     "data": {
      "text/plain": [
       "[5, 3, 4]"
      ]
     },
     "execution_count": 72,
     "metadata": {},
     "output_type": "execute_result"
    }
   ],
   "source": [
    "prueba1 = numero_mixto(23,4)\n",
    "prueba1"
   ]
  },
  {
   "cell_type": "code",
   "execution_count": 73,
   "metadata": {},
   "outputs": [
    {
     "data": {
      "text/plain": [
       "[6, 0, 4]"
      ]
     },
     "execution_count": 73,
     "metadata": {},
     "output_type": "execute_result"
    }
   ],
   "source": [
    "prueba2 = numero_mixto(24,4)\n",
    "prueba2"
   ]
  },
  {
   "cell_type": "code",
   "execution_count": 74,
   "metadata": {},
   "outputs": [
    {
     "data": {
      "text/plain": [
       "[2, 3, 4]"
      ]
     },
     "execution_count": 74,
     "metadata": {},
     "output_type": "execute_result"
    }
   ],
   "source": [
    "prueba3 = numero_mixto(11,4)\n",
    "prueba3"
   ]
  },
  {
   "cell_type": "markdown",
   "metadata": {},
   "source": [
    "5. Escribe una función que tome como input una lista de números y los sume. En caso la suma total sea menor a 100, imprime un mensaje diciendo \"Monto faltante para 100:\" x . x es igual a la resta de 100 respecto a la suma total. \n",
    "En caso la suma total sea mayor a 100, el valor retornado será dicha suma total. \n"
   ]
  },
  {
   "cell_type": "code",
   "execution_count": 91,
   "metadata": {},
   "outputs": [],
   "source": [
    "def suma_lista(lista_numeros):\n",
    "    '''\n",
    "    Suma una lista de numeros y retorna un resultado condicional:\n",
    "\n",
    "    Input: \n",
    "        lista_numeros: lista de números\n",
    "    Ouput: \n",
    "        - Si es menor a 100: nada, solo un print\n",
    "        - Si es mayor a 100: un número\n",
    "    '''\n",
    "    \n",
    "    #Escribe aquí tu función \n",
    "    \n",
    "    result = sum(lista_numeros)\n",
    "    \n",
    "    if result < 100:\n",
    "        x = 100 - result\n",
    "        print(\"Monto faltante para 100:\", x)\n",
    "        \n",
    "    else: \n",
    "        return result"
   ]
  },
  {
   "cell_type": "code",
   "execution_count": 92,
   "metadata": {},
   "outputs": [
    {
     "name": "stdout",
     "output_type": "stream",
     "text": [
      "Monto faltante para 100: 93\n"
     ]
    }
   ],
   "source": [
    "a = [1,2,4]\n",
    "ejemplo1 = suma_lista(a)"
   ]
  },
  {
   "cell_type": "code",
   "execution_count": 95,
   "metadata": {},
   "outputs": [
    {
     "data": {
      "text/plain": [
       "106"
      ]
     },
     "execution_count": 95,
     "metadata": {},
     "output_type": "execute_result"
    }
   ],
   "source": [
    "b = [100,2,4]\n",
    "ejemplo2 = suma_lista(b)\n",
    "ejemplo2"
   ]
  },
  {
   "cell_type": "markdown",
   "metadata": {},
   "source": [
    "5. Escriba una función que convierta la hora de Lima (GMT -5)  en 4 posibles horas: \n",
    "- Hora Vanuatu (GMT +11)  \n",
    "- Hora Dominica (GMT - 4)\n",
    "- Hora Nigeria (GMT +1)\n",
    "- Hora China  (GMT +8)\n",
    "\n",
    "Asumamos que solo  usaremos horas enteras. \n",
    "La función debe tener 2 parámetros: \n",
    "- la hora de Lima que queremos convertir(entero). \n",
    "- la ciudad (string) a la que queremos convertir la hora.\n",
    "\n",
    "La función debe retornar la hora (de 0 a 24 horas) como un número (puede ser un float que termine en .0). Ojo que hay que manejar el caso cuando la suma da más de 24 horas (Pista: %). \n",
    "Ojo 2: Hay casos en los que la hora puede resultar negativa (Pista: Verlo como una resta)"
   ]
  },
  {
   "cell_type": "code",
   "execution_count": 99,
   "metadata": {},
   "outputs": [],
   "source": [
    "diccionario_horas = {\"Vanuatu\": 16, \n",
    "                     \"Dominica\": 1, \n",
    "                     \"Nigeria\": 6,\n",
    "                     \"China\": 13}"
   ]
  },
  {
   "cell_type": "code",
   "execution_count": 141,
   "metadata": {},
   "outputs": [],
   "source": [
    "def cambiar_hora(hora_lima, ciudad):\n",
    "    \n",
    "    '''\n",
    "    input:\n",
    "        hora_lima: entero\n",
    "        ciudad: string\n",
    "    output:\n",
    "        hora_final: entero\n",
    "    '''\n",
    "    \n",
    "    assert hora_lima < 25\n",
    "    hora_final = hora_lima + diccionario_horas[ciudad]\n",
    "     \n",
    "    if hora_final >= 24:\n",
    "        hora_final1 = hora_final - 24\n",
    "        return hora_final1\n",
    "        \n",
    "    return hora_final"
   ]
  },
  {
   "cell_type": "code",
   "execution_count": 118,
   "metadata": {},
   "outputs": [
    {
     "data": {
      "text/plain": [
       "20"
      ]
     },
     "execution_count": 118,
     "metadata": {},
     "output_type": "execute_result"
    }
   ],
   "source": [
    "e1 = cambiar_hora(4,\"Vanuatu\")\n",
    "e1"
   ]
  },
  {
   "cell_type": "code",
   "execution_count": 144,
   "metadata": {},
   "outputs": [
    {
     "data": {
      "text/plain": [
       "12"
      ]
     },
     "execution_count": 144,
     "metadata": {},
     "output_type": "execute_result"
    }
   ],
   "source": [
    "e2 = cambiar_hora(23,\"China\")\n",
    "e2"
   ]
  },
  {
   "cell_type": "code",
   "execution_count": 143,
   "metadata": {},
   "outputs": [
    {
     "data": {
      "text/plain": [
       "1"
      ]
     },
     "execution_count": 143,
     "metadata": {},
     "output_type": "execute_result"
    }
   ],
   "source": [
    "e3 = cambiar_hora(24,\"Dominica\")\n",
    "e3"
   ]
  },
  {
   "cell_type": "markdown",
   "metadata": {},
   "source": [
    "6. Escriba una función sin parámetros y que no retorne nada, pero que haga print de un mensaje que comunique cuál es tu comida favorita o el nombre de tu mascota. "
   ]
  },
  {
   "cell_type": "code",
   "execution_count": 96,
   "metadata": {},
   "outputs": [],
   "source": [
    "def mi_mascota():\n",
    "    print(\"Mi mascota se llama Max\")"
   ]
  },
  {
   "cell_type": "code",
   "execution_count": 97,
   "metadata": {},
   "outputs": [
    {
     "name": "stdout",
     "output_type": "stream",
     "text": [
      "Mi mascota se llama Max\n"
     ]
    }
   ],
   "source": [
    "perrito = mi_mascota()"
   ]
  }
 ],
 "metadata": {
  "kernelspec": {
   "display_name": "Python 3",
   "language": "python",
   "name": "python3"
  },
  "language_info": {
   "codemirror_mode": {
    "name": "ipython",
    "version": 3
   },
   "file_extension": ".py",
   "mimetype": "text/x-python",
   "name": "python",
   "nbconvert_exporter": "python",
   "pygments_lexer": "ipython3",
   "version": "3.8.5"
  }
 },
 "nbformat": 4,
 "nbformat_minor": 4
}
