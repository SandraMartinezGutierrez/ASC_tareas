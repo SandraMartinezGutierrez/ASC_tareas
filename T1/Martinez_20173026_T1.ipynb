{
 "cells": [
  {
   "cell_type": "markdown",
   "metadata": {},
   "source": [
    "# Tarea 1\n",
    "\n"
   ]
  },
  {
   "cell_type": "markdown",
   "metadata": {},
   "source": [
    "1. Comprueba que un subguión `_` para separar miles puede ser usado en vez de comas al escribir números grandes. El resultado aún es un número. Puedes escribir un millón, o mil millones, (o algún otro ejemplo)."
   ]
  },
  {
   "cell_type": "code",
   "execution_count": 1,
   "metadata": {
    "scrolled": true
   },
   "outputs": [
    {
     "data": {
      "text/plain": [
       "1000"
      ]
     },
     "execution_count": 1,
     "metadata": {},
     "output_type": "execute_result"
    }
   ],
   "source": [
    "a = 1_000\n",
    "a"
   ]
  },
  {
   "cell_type": "code",
   "execution_count": 5,
   "metadata": {
    "scrolled": true
   },
   "outputs": [
    {
     "data": {
      "text/plain": [
       "int"
      ]
     },
     "execution_count": 5,
     "metadata": {},
     "output_type": "execute_result"
    }
   ],
   "source": [
    "type(a)"
   ]
  },
  {
   "cell_type": "code",
   "execution_count": 2,
   "metadata": {},
   "outputs": [
    {
     "data": {
      "text/plain": [
       "5222878445"
      ]
     },
     "execution_count": 2,
     "metadata": {},
     "output_type": "execute_result"
    }
   ],
   "source": [
    "b = 5_222_878_445\n",
    "b"
   ]
  },
  {
   "cell_type": "code",
   "execution_count": 209,
   "metadata": {},
   "outputs": [
    {
     "data": {
      "text/plain": [
       "(1, 458)"
      ]
     },
     "execution_count": 209,
     "metadata": {},
     "output_type": "execute_result"
    }
   ],
   "source": [
    "c = 1,458\n",
    "c"
   ]
  },
  {
   "cell_type": "code",
   "execution_count": 210,
   "metadata": {},
   "outputs": [
    {
     "data": {
      "text/plain": [
       "tuple"
      ]
     },
     "execution_count": 210,
     "metadata": {},
     "output_type": "execute_result"
    }
   ],
   "source": [
    "type(c)  # c dejó de ser un número"
   ]
  },
  {
   "cell_type": "markdown",
   "metadata": {},
   "source": [
    "2. Calcula cuántas horas trabajan en total los 130 congresistas de nuestro país en un año. Asume que trabajan 40 horas a la semana, por 48 semanas al año (considerando que tienen vacaciones y no trabajan sobretiempo). "
   ]
  },
  {
   "cell_type": "code",
   "execution_count": 32,
   "metadata": {},
   "outputs": [
    {
     "name": "stdout",
     "output_type": "stream",
     "text": [
      "En un año, los congresistas trabajan 249600 horas en total.\n"
     ]
    }
   ],
   "source": [
    "congresistas = 130\n",
    "horas = 40 \n",
    "semanas = 48\n",
    "horas_total = horas*semanas*congresistas\n",
    "\n",
    "print(\"En un año, los congresistas trabajan \" + str(horas_total) + \" horas en total.\")"
   ]
  },
  {
   "cell_type": "markdown",
   "metadata": {},
   "source": [
    "3. Ahora calcula el salario de un congresista por hora. Los supuestos del anterior ejercicio se mantienen (Se puede pasar por alto las vacaciones). Cabe recordar que los congresistas ganan 15,600 soles mensuales.   \n",
    "- Crea una variable para el salario por hora de un congresista.   \n",
    "- Crea una variable para la suma de los salarios por hora de los 130 congresistas.\n"
   ]
  },
  {
   "cell_type": "code",
   "execution_count": 36,
   "metadata": {},
   "outputs": [
    {
     "name": "stdout",
     "output_type": "stream",
     "text": [
      "Un congresista gana por hora 390.0 soles.\n",
      "En total, la suma de los salarios por hora de todos los congresistas asciende a 50700.0 soles.\n"
     ]
    }
   ],
   "source": [
    "salario_mensual = 15_600\n",
    "salario_hora = salario_mensual/horas\n",
    "print(\"Un congresista gana por hora \" + str(salario_hora) + \" soles.\")\n",
    "\n",
    "salario_hora_todos = salario_hora*congresistas\n",
    "print(\"En total, la suma de los salarios por hora de todos los congresistas asciende a \" + str(salario_hora_todos) + \" soles.\")"
   ]
  },
  {
   "cell_type": "markdown",
   "metadata": {},
   "source": [
    "4. Benito se acaba de comprar una computadora Asus a 2,579 soles. Es es el precio después del IGV, sin embargo, él quisiera saber cuántos soles está pagando de IGV. Calcule el monto (el IGV es 18% sobre el valor base). Cree una variable para el porcentaje de IGV, el precio del celular con impuesto, el monto del impuesto y el precio de la computadora sin impuesto."
   ]
  },
  {
   "cell_type": "code",
   "execution_count": 42,
   "metadata": {},
   "outputs": [
    {
     "name": "stdout",
     "output_type": "stream",
     "text": [
      "El precio de la computadora sin impuestos es de 2185.59 soles.\n",
      "Benito está pagando 393.41 soles por concepto de impuestos.\n"
     ]
    }
   ],
   "source": [
    "precio_con_impuesto = 2_579\n",
    "IGV = 0.18\n",
    "precio_sin_impuesto = precio_con_impuesto/(1+IGV)\n",
    "print(\"El precio de la computadora sin impuestos es de \" + str(round(precio_sin_impuesto,2)) + \" soles.\")\n",
    "\n",
    "monto_impuesto = precio_con_impuesto - precio_sin_impuesto\n",
    "print(\"Benito está pagando \" + str(round(monto_impuesto,2)) + \" soles por concepto de impuestos.\")"
   ]
  },
  {
   "cell_type": "markdown",
   "metadata": {},
   "source": [
    "5.  Cristina percibe el sueldo mínimo (931 soles). Compruebe que el salario anual de Cristina es menor al salario anual de un congresista, usando operadores de comparación y una expresión que detalle el monto mensual y el número de meses trabajados de ambos."
   ]
  },
  {
   "cell_type": "code",
   "execution_count": 54,
   "metadata": {},
   "outputs": [
    {
     "name": "stdout",
     "output_type": "stream",
     "text": [
      "Cristina gana anualmente 11172 soles.\n"
     ]
    }
   ],
   "source": [
    "sueldo_mensual_cristina = 931\n",
    "meses = 12\n",
    "sueldo_anual_cristina = sueldo * meses\n",
    "print(\"Cristina gana anualmente \" + str(round(sueldo_anual,2)) + \" soles.\")"
   ]
  },
  {
   "cell_type": "code",
   "execution_count": 55,
   "metadata": {},
   "outputs": [
    {
     "name": "stdout",
     "output_type": "stream",
     "text": [
      "Un congresista gana anualmente 187200 soles.\n"
     ]
    }
   ],
   "source": [
    "salario_mensual_congresista = 15_600\n",
    "salario_anual_congresista = salario_mensual * meses\n",
    "print(\"Un congresista gana anualmente \" + str(round(salario_anual,2)) + \" soles.\")"
   ]
  },
  {
   "cell_type": "code",
   "execution_count": 56,
   "metadata": {},
   "outputs": [
    {
     "data": {
      "text/plain": [
       "True"
      ]
     },
     "execution_count": 56,
     "metadata": {},
     "output_type": "execute_result"
    }
   ],
   "source": [
    "sueldo_anual_cristina < salario_anual_congresista"
   ]
  },
  {
   "cell_type": "markdown",
   "metadata": {},
   "source": [
    "6. Una comunidad de 5309 familias tiene que ser compensada monetariamente por una compañía transnacional. El monto negociado es de 100 millones de soles, sin embargo, una cláusula del contrato dice que el monto de compensación tiene que ser un número entero. ¿Cuántos soles adicionales se le  tiene  que agregar al monto negociado para que las familias reciban una cantidad entera? (Pista: Acuérdate del  floor y el módulo)."
   ]
  },
  {
   "cell_type": "code",
   "execution_count": 137,
   "metadata": {},
   "outputs": [
    {
     "name": "stdout",
     "output_type": "stream",
     "text": [
      "Dado que cada familia recibiría S/. 18835.94, se debe realizar un aumento de S/. 0.06 para que el monto de compensación sea un número entero.\n",
      "Luego, cada familia recibirá S/. 18836.0\n",
      "De esta manera, se deben aumentar S/. 324.0 al monto negociado.\n",
      "Finalmente, el monto negociado debería ascender a S/. 100000324.0\n"
     ]
    }
   ],
   "source": [
    "familias = 5_309\n",
    "compensacion = 100_000_000\n",
    "\n",
    "recibe_familia = compensacion / familias\n",
    "\n",
    "if compensacion%familias==0:\n",
    "    print(\"No se necesitan aumentar soles, puesto que cada una de las familias recibirá exactamente \" + str(recibe_familia) + \" soles.\")\n",
    "else: \n",
    "    adicional = (compensacion // familias + 1 ) - recibe_familia\n",
    "    print(\"Dado que cada familia recibiría S/. \" + str(round(recibe_familia,2)) + \", se debe realizar un aumento de S/. \" + str(round(adicional,2)) + \" para que el monto de compensación sea un número entero.\")\n",
    "    \n",
    "    monto_final = recibe_familia + adicional\n",
    "    print (\"Luego, cada familia recibirá S/. \" + str(round(monto_final,2)))\n",
    "    \n",
    "    soles_adicionales = adicional*familias\n",
    "    print (\"De esta manera, se deben aumentar S/. \" + str(round(soles_adicionales,2)) + \" al monto negociado.\")\n",
    "    \n",
    "    modificacion_negociado = compensacion + soles_adicionales\n",
    "    print(\"Finalmente, el monto negociado debería ascender a S/. \" + str(round(modificacion_negociado,2)))"
   ]
  },
  {
   "cell_type": "markdown",
   "metadata": {},
   "source": [
    "7. Tenemos la siguiente lista de cursos: "
   ]
  },
  {
   "cell_type": "code",
   "execution_count": 144,
   "metadata": {},
   "outputs": [],
   "source": [
    "cursos = [\"Historia\", \"Economia\", \"Antropologia\", \"RSP\", \"Derecho\"]"
   ]
  },
  {
   "cell_type": "markdown",
   "metadata": {},
   "source": [
    "Realiza las siguientes operaciones en bloques diferentes: \n",
    "- Calcula cuántos elementos tiene la lista.\n"
   ]
  },
  {
   "cell_type": "code",
   "execution_count": 145,
   "metadata": {},
   "outputs": [
    {
     "data": {
      "text/plain": [
       "5"
      ]
     },
     "execution_count": 145,
     "metadata": {},
     "output_type": "execute_result"
    }
   ],
   "source": [
    "len(cursos)"
   ]
  },
  {
   "cell_type": "markdown",
   "metadata": {},
   "source": [
    "8.\n",
    "- Agrega tres cursos adicionales de 3 formas diferentes (uno por forma):\n",
    "   - Suma (+) una lista que contenga un curso adicional. \n",
    "   - Usa el append. \n",
    "   - Usa el extend. \n"
   ]
  },
  {
   "cell_type": "code",
   "execution_count": 146,
   "metadata": {},
   "outputs": [
    {
     "data": {
      "text/plain": [
       "['Historia', 'Economia', 'Antropologia', 'RSP', 'Derecho', 'Mateco 1']"
      ]
     },
     "execution_count": 146,
     "metadata": {},
     "output_type": "execute_result"
    }
   ],
   "source": [
    "# +=\n",
    "\n",
    "cursos += [\"Mateco 1\"]\n",
    "cursos"
   ]
  },
  {
   "cell_type": "code",
   "execution_count": 147,
   "metadata": {},
   "outputs": [
    {
     "data": {
      "text/plain": [
       "['Historia',\n",
       " 'Economia',\n",
       " 'Antropologia',\n",
       " 'RSP',\n",
       " 'Derecho',\n",
       " 'Mateco 1',\n",
       " 'Psicología']"
      ]
     },
     "execution_count": 147,
     "metadata": {},
     "output_type": "execute_result"
    }
   ],
   "source": [
    "# Append\n",
    "cursos.append(\"Psicología\")\n",
    "cursos"
   ]
  },
  {
   "cell_type": "code",
   "execution_count": 148,
   "metadata": {},
   "outputs": [
    {
     "data": {
      "text/plain": [
       "['Historia',\n",
       " 'Economia',\n",
       " 'Antropologia',\n",
       " 'RSP',\n",
       " 'Derecho',\n",
       " 'Mateco 1',\n",
       " 'Psicología',\n",
       " 'Microeconomía']"
      ]
     },
     "execution_count": 148,
     "metadata": {},
     "output_type": "execute_result"
    }
   ],
   "source": [
    "# Extend\n",
    "\n",
    "un_curso = [\"Microeconomía\"]\n",
    "cursos.extend(un_curso) \n",
    "cursos"
   ]
  },
  {
   "cell_type": "markdown",
   "metadata": {},
   "source": [
    "9.\n",
    "- Usa la indexación para señalar a _RSP_.\n"
   ]
  },
  {
   "cell_type": "code",
   "execution_count": 151,
   "metadata": {},
   "outputs": [
    {
     "data": {
      "text/plain": [
       "'RSP'"
      ]
     },
     "execution_count": 151,
     "metadata": {},
     "output_type": "execute_result"
    }
   ],
   "source": [
    "cursos[3]"
   ]
  },
  {
   "cell_type": "markdown",
   "metadata": {},
   "source": [
    "10.\n",
    "- Remueve el curso que menos te guste de la lista.\n"
   ]
  },
  {
   "cell_type": "code",
   "execution_count": 153,
   "metadata": {},
   "outputs": [
    {
     "data": {
      "text/plain": [
       "['Antropologia', 'RSP', 'Derecho', 'Mateco 1', 'Psicología', 'Microeconomía']"
      ]
     },
     "execution_count": 153,
     "metadata": {},
     "output_type": "execute_result"
    }
   ],
   "source": [
    "cursos.pop(0)\n",
    "cursos"
   ]
  },
  {
   "cell_type": "markdown",
   "metadata": {},
   "source": [
    "11.\n",
    "  - Invierte la lista."
   ]
  },
  {
   "cell_type": "code",
   "execution_count": 155,
   "metadata": {},
   "outputs": [
    {
     "data": {
      "text/plain": [
       "['Microeconomía', 'Psicología', 'Mateco 1', 'Derecho', 'RSP', 'Antropologia']"
      ]
     },
     "execution_count": 155,
     "metadata": {},
     "output_type": "execute_result"
    }
   ],
   "source": [
    "cursos[::-1]"
   ]
  },
  {
   "cell_type": "markdown",
   "metadata": {},
   "source": [
    "12. Tenemos los siguientes números: 30, 24, 54.2, 15.8, 145, 90, 100.\n",
    " - Crea una lista con ellos. \n",
    " - Ordena la lista de menor a mayor.\n",
    " - Cuenta cuántos números mayores a 30 hay.\n",
    " - Saca el promedio de los números de la lista.  \n",
    "(Realiza cada uno en bloques separados)."
   ]
  },
  {
   "cell_type": "code",
   "execution_count": 202,
   "metadata": {},
   "outputs": [
    {
     "data": {
      "text/plain": [
       "[30, 24, 54.2, 15.8, 145, 90, 100]"
      ]
     },
     "execution_count": 202,
     "metadata": {},
     "output_type": "execute_result"
    }
   ],
   "source": [
    "# Creando la lista \n",
    "numeros = [30, 24, 54.2, 15.8, 145, 90, 100]\n",
    "numeros"
   ]
  },
  {
   "cell_type": "code",
   "execution_count": 203,
   "metadata": {},
   "outputs": [
    {
     "data": {
      "text/plain": [
       "[15.8, 24, 30, 54.2, 90, 100, 145]"
      ]
     },
     "execution_count": 203,
     "metadata": {},
     "output_type": "execute_result"
    }
   ],
   "source": [
    "# Ordenando de menor a mayor\n",
    "numeros.sort()\n",
    "numeros"
   ]
  },
  {
   "cell_type": "code",
   "execution_count": 206,
   "metadata": {},
   "outputs": [
    {
     "name": "stdout",
     "output_type": "stream",
     "text": [
      "Hay 4 números mayores que 30.\n"
     ]
    }
   ],
   "source": [
    "# Contar cuántos números mayores a 30 hay\n",
    "\n",
    "seleccion = []\n",
    "\n",
    "for x in numeros:\n",
    "    if x > 30:\n",
    "        seleccion += [x]\n",
    "    \n",
    "print(\"Hay \" + str(len(seleccion)) + \" números mayores que 30.\")"
   ]
  },
  {
   "cell_type": "code",
   "execution_count": 207,
   "metadata": {},
   "outputs": [
    {
     "data": {
      "text/plain": [
       "65.57142857142857"
      ]
     },
     "execution_count": 207,
     "metadata": {},
     "output_type": "execute_result"
    }
   ],
   "source": [
    "# Promedio de los números\n",
    "sum(numeros)/len(numeros)"
   ]
  }
 ],
 "metadata": {
  "kernelspec": {
   "display_name": "Python 3",
   "language": "python",
   "name": "python3"
  },
  "language_info": {
   "codemirror_mode": {
    "name": "ipython",
    "version": 3
   },
   "file_extension": ".py",
   "mimetype": "text/x-python",
   "name": "python",
   "nbconvert_exporter": "python",
   "pygments_lexer": "ipython3",
   "version": "3.8.5"
  }
 },
 "nbformat": 4,
 "nbformat_minor": 4
}
